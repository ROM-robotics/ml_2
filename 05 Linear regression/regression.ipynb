{
 "cells": [
  {
   "cell_type": "code",
   "execution_count": 19,
   "id": "30cba4c4",
   "metadata": {},
   "outputs": [],
   "source": [
    "import numpy as np\n",
    "import matplotlib.pyplot as plt\n",
    "import pandas as pd"
   ]
  },
  {
   "cell_type": "code",
   "execution_count": 20,
   "id": "ec4ff705",
   "metadata": {},
   "outputs": [
    {
     "data": {
      "text/html": [
       "<div>\n",
       "<style scoped>\n",
       "    .dataframe tbody tr th:only-of-type {\n",
       "        vertical-align: middle;\n",
       "    }\n",
       "\n",
       "    .dataframe tbody tr th {\n",
       "        vertical-align: top;\n",
       "    }\n",
       "\n",
       "    .dataframe thead th {\n",
       "        text-align: right;\n",
       "    }\n",
       "</style>\n",
       "<table border=\"1\" class=\"dataframe\">\n",
       "  <thead>\n",
       "    <tr style=\"text-align: right;\">\n",
       "      <th></th>\n",
       "      <th>Water per acre</th>\n",
       "      <th>Salinity level</th>\n",
       "      <th>Fertilizer per acre</th>\n",
       "      <th>Pecan Production</th>\n",
       "    </tr>\n",
       "  </thead>\n",
       "  <tbody>\n",
       "    <tr>\n",
       "      <th>0</th>\n",
       "      <td>68.138954</td>\n",
       "      <td>45.916165</td>\n",
       "      <td>42.896806</td>\n",
       "      <td>406.064207</td>\n",
       "    </tr>\n",
       "    <tr>\n",
       "      <th>1</th>\n",
       "      <td>79.907342</td>\n",
       "      <td>42.998570</td>\n",
       "      <td>49.763432</td>\n",
       "      <td>442.476260</td>\n",
       "    </tr>\n",
       "    <tr>\n",
       "      <th>2</th>\n",
       "      <td>75.301620</td>\n",
       "      <td>43.715734</td>\n",
       "      <td>48.242166</td>\n",
       "      <td>433.672569</td>\n",
       "    </tr>\n",
       "    <tr>\n",
       "      <th>3</th>\n",
       "      <td>91.255560</td>\n",
       "      <td>35.568128</td>\n",
       "      <td>53.779698</td>\n",
       "      <td>467.941026</td>\n",
       "    </tr>\n",
       "    <tr>\n",
       "      <th>4</th>\n",
       "      <td>100.998049</td>\n",
       "      <td>24.689234</td>\n",
       "      <td>50.967590</td>\n",
       "      <td>510.038689</td>\n",
       "    </tr>\n",
       "  </tbody>\n",
       "</table>\n",
       "</div>"
      ],
      "text/plain": [
       "   Water per acre  Salinity level  Fertilizer per acre  Pecan Production\n",
       "0       68.138954       45.916165            42.896806        406.064207\n",
       "1       79.907342       42.998570            49.763432        442.476260\n",
       "2       75.301620       43.715734            48.242166        433.672569\n",
       "3       91.255560       35.568128            53.779698        467.941026\n",
       "4      100.998049       24.689234            50.967590        510.038689"
      ]
     },
     "execution_count": 20,
     "metadata": {},
     "output_type": "execute_result"
    }
   ],
   "source": [
    "df = pd.read_csv('Pecan.csv')\n",
    "#df.info()\n",
    "df.head()"
   ]
  },
  {
   "cell_type": "code",
   "execution_count": 22,
   "id": "2ef9afc0",
   "metadata": {},
   "outputs": [
    {
     "data": {
      "text/plain": [
       "<matplotlib.collections.PathCollection at 0x7ff23a0406a0>"
      ]
     },
     "execution_count": 22,
     "metadata": {},
     "output_type": "execute_result"
    },
    {
     "data": {
      "image/png": "[encoded data removed]",
      "text/plain": [
       "<Figure size 640x480 with 1 Axes>"
      ]
     },
     "metadata": {},
     "output_type": "display_data"
    }
   ],
   "source": [
    "plt.scatter(df[\"Fertilizer per acre\"],df[\"Pecan Production\"])"
   ]
  },
  {
   "cell_type": "code",
   "execution_count": 24,
   "id": "819c5170",
   "metadata": {},
   "outputs": [],
   "source": [
    "from sklearn.linear_model import LinearRegression\n",
    "X=df.values[:, range(0,3)]\n",
    "y=df.values[:,3]\n",
    "model=LinearRegression().fit(X, y)\n"
   ]
  },
  {
   "cell_type": "code",
   "execution_count": 25,
   "id": "bc94d8e2",
   "metadata": {},
   "outputs": [
    {
     "name": "stdout",
     "output_type": "stream",
     "text": [
      "[601.37236317 585.22090186 345.37084508 353.12780244]\n"
     ]
    }
   ],
   "source": [
    "clientData=[[120, 5, 80],\n",
    "          [50, 1, 150],\n",
    "          [100, 80, 100],\n",
    "           [99, 78, 105]\n",
    "        ]\n",
    "print(model.predict(clientData))\n"
   ]
  }
 ],
 "metadata": {
  "kernelspec": {
   "display_name": "Python 3 (ipykernel)",
   "language": "python",
   "name": "python3"
  },
  "language_info": {
   "codemirror_mode": {
    "name": "ipython",
    "version": 3
   },
   "file_extension": ".py",
   "mimetype": "text/x-python",
   "name": "python",
   "nbconvert_exporter": "python",
   "pygments_lexer": "ipython3",
   "version": "3.10.9"
  }
 },
 "nbformat": 4,
 "nbformat_minor": 5
}
